{
 "cells": [
  {
   "cell_type": "code",
   "execution_count": 60,
   "metadata": {},
   "outputs": [],
   "source": [
    "import os\n",
    "import glob\n",
    "import h5py\n",
    "import numpy as np\n",
    "import matplotlib.pyplot as plt\n",
    "import scipy.io as sio \n",
    "import cv2\n",
    "import pickle\n",
    "import time\n",
    "import random\n",
    "import sys\n",
    "from PIL import Image\n",
    "from collections import namedtuple as nt"
   ]
  },
  {
   "cell_type": "code",
   "execution_count": 61,
   "metadata": {},
   "outputs": [],
   "source": [
    "os.environ['KERAS_BACKEND'] = 'tensorflow'\n",
    "os.environ[\"CUDA_VISIBLE_DEVICES\"] = \"2\""
   ]
  },
  {
   "cell_type": "code",
   "execution_count": 62,
   "metadata": {},
   "outputs": [],
   "source": [
    "from keras.models import Sequential\n",
    "from keras.optimizers import SGD\n",
    "from keras.utils import np_utils\n",
    "from keras.models import Model\n",
    "from keras.layers import Input\n",
    "from keras.utils import data_utils, plot_model\n",
    "from keras import backend as K\n",
    "from keras.models import model_from_json\n",
    "from keras.callbacks import TensorBoard\n",
    "K.clear_session()"
   ]
  },
  {
   "cell_type": "code",
   "execution_count": 63,
   "metadata": {},
   "outputs": [],
   "source": [
    "import tensorflow as tf\n",
    "from keras.backend.tensorflow_backend import set_session\n",
    "config = tf.ConfigProto()\n",
    "config.gpu_options.allow_growth = True\n",
    "config.gpu_options.visible_device_list = \"0\"\n",
    "set_session(tf.Session(config=config))\n"
   ]
  },
  {
   "cell_type": "code",
   "execution_count": 64,
   "metadata": {},
   "outputs": [],
   "source": [
    "TYNAMO_HOME_DIR = '/nfs/tynamo/home/data/vision7/gdhody/chrono/'\n",
    "BLITZLE_HOME_DIR = '/nfs/blitzle/home/data/vision5/gdhody/chrono/'\n",
    "HOME_DIR = TYNAMO_HOME_DIR"
   ]
  },
  {
   "cell_type": "code",
   "execution_count": 65,
   "metadata": {},
   "outputs": [],
   "source": [
    "EPOCH = str(80)\n",
    "BATCH_SIZE = 128\n",
    "LR, LR_DECAY = 0.01, 0.0000625\n",
    "LOSS = 'mean_squared_error'\n",
    "MODEL_NAME = 'URLSS'\n",
    "MODEL_PATH = os.path.join(HOME_DIR, 'models', MODEL_NAME, 'model.json')\n",
    "MODEL_WEIGHTS = os.path.join(HOME_DIR, 'models', MODEL_NAME, 'weights', 'EPOCH_' + EPOCH + '.h5')\n",
    "HDF5_PATH = os.path.join(HOME_DIR, 'patch.hdf5')\n",
    "PICKLE_PATH = os.path.join(HOME_DIR, 'patch.pkl')"
   ]
  },
  {
   "cell_type": "code",
   "execution_count": 66,
   "metadata": {},
   "outputs": [],
   "source": [
    "# %run model_and_callback.ipynb\n",
    "# %run patch_DataLoad_Binary.ipynb\n",
    "from compare_model_and_callback import lstm_model, EpochCallback\n",
    "from patch_DataLoad_Binary import ChronoDataSet"
   ]
  },
  {
   "cell_type": "code",
   "execution_count": 67,
   "metadata": {
    "scrolled": true
   },
   "outputs": [
    {
     "name": "stdout",
     "output_type": "stream",
     "text": [
      "Model Creation Started\n",
      "Model Caffe Base Created\n",
      "Model Compare Unit Finished\n",
      "Model LSTM Unit Finished\n",
      "Model Output Layers Finished\n",
      "Model Creation Finished\n",
      "__________________________________________________________________________________________________\n",
      "Layer (type)                    Output Shape         Param #     Connected to                     \n",
      "==================================================================================================\n",
      "input (InputLayer)              (None, 4, 80, 80, 3) 0                                            \n",
      "__________________________________________________________________________________________________\n",
      "TD_conv1_96_7_3 (TimeDistribute (None, 4, 24, 24, 96 34944       input[0][0]                      \n",
      "__________________________________________________________________________________________________\n",
      "TD_mpool1_3_2 (TimeDistributed) (None, 4, 11, 11, 96 0           TD_conv1_96_7_3[0][0]            \n",
      "__________________________________________________________________________________________________\n",
      "TD_lrnorm1 (TimeDistributed)    (None, 4, 11, 11, 96 0           TD_mpool1_3_2[0][0]              \n",
      "__________________________________________________________________________________________________\n",
      "TD_conv2_256_3_1 (TimeDistribut (None, 4, 11, 11, 25 614656      TD_lrnorm1[0][0]                 \n",
      "__________________________________________________________________________________________________\n",
      "TD_mpool2_3_2 (TimeDistributed) (None, 4, 5, 5, 256) 0           TD_conv2_256_3_1[0][0]           \n",
      "__________________________________________________________________________________________________\n",
      "TD_lrnorm2 (TimeDistributed)    (None, 4, 5, 5, 256) 0           TD_mpool2_3_2[0][0]              \n",
      "__________________________________________________________________________________________________\n",
      "TD_conv3_384_3_1 (TimeDistribut (None, 4, 5, 5, 384) 885120      TD_lrnorm2[0][0]                 \n",
      "__________________________________________________________________________________________________\n",
      "TD_bn_3 (TimeDistributed)       (None, 4, 5, 5, 384) 1536        TD_conv3_384_3_1[0][0]           \n",
      "__________________________________________________________________________________________________\n",
      "TD_relu_3 (TimeDistributed)     (None, 4, 5, 5, 384) 0           TD_bn_3[0][0]                    \n",
      "__________________________________________________________________________________________________\n",
      "TD_conv4_384_3_1 (TimeDistribut (None, 4, 5, 5, 384) 1327488     TD_relu_3[0][0]                  \n",
      "__________________________________________________________________________________________________\n",
      "TD_bn_4 (TimeDistributed)       (None, 4, 5, 5, 384) 1536        TD_conv4_384_3_1[0][0]           \n",
      "__________________________________________________________________________________________________\n",
      "TD_relu_4 (TimeDistributed)     (None, 4, 5, 5, 384) 0           TD_bn_4[0][0]                    \n",
      "__________________________________________________________________________________________________\n",
      "TD_conv5_256_3_1 (TimeDistribut (None, 4, 5, 5, 256) 884992      TD_relu_4[0][0]                  \n",
      "__________________________________________________________________________________________________\n",
      "TD_bn_5 (TimeDistributed)       (None, 4, 5, 5, 256) 1024        TD_conv5_256_3_1[0][0]           \n",
      "__________________________________________________________________________________________________\n",
      "TD_relu_5 (TimeDistributed)     (None, 4, 5, 5, 256) 0           TD_bn_5[0][0]                    \n",
      "__________________________________________________________________________________________________\n",
      "TD_mpool5_3_2 (TimeDistributed) (None, 4, 2, 2, 256) 0           TD_relu_5[0][0]                  \n",
      "__________________________________________________________________________________________________\n",
      "TD_flatten6 (TimeDistributed)   (None, 4, 1024)      0           TD_mpool5_3_2[0][0]              \n",
      "__________________________________________________________________________________________________\n",
      "image_0 (Lambda)                (None, 1024)         0           TD_flatten6[0][0]                \n",
      "__________________________________________________________________________________________________\n",
      "image_1 (Lambda)                (None, 1024)         0           TD_flatten6[0][0]                \n",
      "__________________________________________________________________________________________________\n",
      "image_2 (Lambda)                (None, 1024)         0           TD_flatten6[0][0]                \n",
      "__________________________________________________________________________________________________\n",
      "image_3 (Lambda)                (None, 1024)         0           TD_flatten6[0][0]                \n",
      "__________________________________________________________________________________________________\n",
      "compare_01 (Concatenate)        (None, 2048)         0           image_0[0][0]                    \n",
      "                                                                 image_1[0][0]                    \n",
      "__________________________________________________________________________________________________\n",
      "compare_12 (Concatenate)        (None, 2048)         0           image_1[0][0]                    \n",
      "                                                                 image_2[0][0]                    \n",
      "__________________________________________________________________________________________________\n",
      "compare_23 (Concatenate)        (None, 2048)         0           image_2[0][0]                    \n",
      "                                                                 image_3[0][0]                    \n",
      "__________________________________________________________________________________________________\n",
      "compare_03 (Concatenate)        (None, 2048)         0           image_0[0][0]                    \n",
      "                                                                 image_3[0][0]                    \n",
      "__________________________________________________________________________________________________\n",
      "dense_01_7 (Dense)              (None, 512)          1049088     compare_01[0][0]                 \n",
      "__________________________________________________________________________________________________\n",
      "dense_12_7 (Dense)              (None, 512)          1049088     compare_12[0][0]                 \n",
      "__________________________________________________________________________________________________\n",
      "dense_23_7 (Dense)              (None, 512)          1049088     compare_23[0][0]                 \n",
      "__________________________________________________________________________________________________\n",
      "dense_03_7 (Dense)              (None, 512)          1049088     compare_03[0][0]                 \n",
      "__________________________________________________________________________________________________\n",
      "bn_01_7 (BatchNormalization)    (None, 512)          2048        dense_01_7[0][0]                 \n",
      "__________________________________________________________________________________________________\n",
      "bn_12_7 (BatchNormalization)    (None, 512)          2048        dense_12_7[0][0]                 \n",
      "__________________________________________________________________________________________________\n",
      "bn_23_7 (BatchNormalization)    (None, 512)          2048        dense_23_7[0][0]                 \n",
      "__________________________________________________________________________________________________\n",
      "bn_03_7 (BatchNormalization)    (None, 512)          2048        dense_03_7[0][0]                 \n",
      "__________________________________________________________________________________________________\n",
      "relu_01_7 (Activation)          (None, 512)          0           bn_01_7[0][0]                    \n",
      "__________________________________________________________________________________________________\n",
      "relu_12_7 (Activation)          (None, 512)          0           bn_12_7[0][0]                    \n",
      "__________________________________________________________________________________________________\n",
      "relu_23_7 (Activation)          (None, 512)          0           bn_23_7[0][0]                    \n",
      "__________________________________________________________________________________________________\n",
      "relu_03_7 (Activation)          (None, 512)          0           bn_03_7[0][0]                    \n",
      "__________________________________________________________________________________________________\n",
      "concat_0123 (Concatenate)       (None, 2048)         0           relu_01_7[0][0]                  \n",
      "                                                                 relu_12_7[0][0]                  \n",
      "                                                                 relu_23_7[0][0]                  \n",
      "                                                                 relu_03_7[0][0]                  \n",
      "__________________________________________________________________________________________________\n",
      "reshape_512 (Reshape)           (None, 4, 512)       0           concat_0123[0][0]                \n",
      "__________________________________________________________________________________________________\n",
      "bi_lstm_sort_1_128 (Bidirection (None, 128)          656384      reshape_512[0][0]                \n",
      "__________________________________________________________________________________________________\n",
      "lstm_catg (Dense)               (None, 1)            129         bi_lstm_sort_1_128[0][0]         \n",
      "__________________________________________________________________________________________________\n",
      "output (Activation)             (None, 1)            0           lstm_catg[0][0]                  \n",
      "==================================================================================================\n",
      "Total params: 8,612,353\n",
      "Trainable params: 8,606,209\n",
      "Non-trainable params: 6,144\n",
      "__________________________________________________________________________________________________\n",
      "None\n"
     ]
    }
   ],
   "source": [
    "model_input, model_output = lstm_model(\n",
    "                                        input_shape=(4, 80, 80, 3),\n",
    "                                        resnet=False,\n",
    "                                        dense_feature_to_compare=0,\n",
    "                                        drop_feature=0,\n",
    "                                        compare_layer=True,\n",
    "                                        compare_layer_dense=512,\n",
    "                                        drop_compare_dense=0,\n",
    "                                        lstm_cells=[(0, True, 'sum')],\n",
    "                                        many_to_many=False,\n",
    "                                        dense_layer_after_lstm=0,\n",
    "                                        multi_output=False,\n",
    "                                        number_of_classes=1,\n",
    "                                     )\n",
    "model = Model(inputs=[model_input], outputs=[model_output])\n",
    "output_layer_name = model.layers[-1].name\n",
    "print model.summary()"
   ]
  },
  {
   "cell_type": "code",
   "execution_count": null,
   "metadata": {},
   "outputs": [],
   "source": []
  },
  {
   "cell_type": "code",
   "execution_count": 68,
   "metadata": {},
   "outputs": [
    {
     "name": "stdout",
     "output_type": "stream",
     "text": [
      "Test Data Generator Ready\n"
     ]
    }
   ],
   "source": [
    "test_generator = ChronoDataSet(\n",
    "                                        PICKLE_PATH,\n",
    "                                        HDF5_PATH,\n",
    "                                        batch_size=BATCH_SIZE,\n",
    "                                        start_epoch=0,\n",
    "                                        mode='TEST',\n",
    "                                        dataset='UCF'\n",
    "                                )\n",
    "print \"Test Data Generator Ready\""
   ]
  },
  {
   "cell_type": "code",
   "execution_count": 69,
   "metadata": {},
   "outputs": [],
   "source": [
    "sgd = SGD(lr=LR, decay=LR_DECAY, momentum=0.9, nesterov=True)\n",
    "model.compile(\n",
    "                loss={output_layer_name : LOSS},\n",
    "                optimizer=sgd,\n",
    "                metrics=['accuracy']\n",
    "             )"
   ]
  },
  {
   "cell_type": "code",
   "execution_count": 70,
   "metadata": {},
   "outputs": [
    {
     "name": "stdout",
     "output_type": "stream",
     "text": [
      "Weights from 78 epoch Loaded /nfs/tynamo/home/data/vision7/gdhody/chrono/models/BINARY_CD512_LSTM128BI_1_LR05_LRD00005/weights/EPOCH_78.h5\n"
     ]
    }
   ],
   "source": [
    "model.load_weights(MODEL_WEIGHTS, by_name=True)\n",
    "print \"Weights from\", str(EPOCH), \"epoch Loaded\", MODEL_WEIGHTS"
   ]
  },
  {
   "cell_type": "code",
   "execution_count": null,
   "metadata": {},
   "outputs": [],
   "source": [
    "print \"TESTING\"\n",
    "print model.metrics_names\n",
    "print model.evaluate_generator(\n",
    "                            generator=test_generator,\n",
    "                            steps=test_generator.getBatchRunsPerEpoch(),\n",
    "                            max_queue_size=9,\n",
    "                            workers=3,\n",
    "                            use_multiprocessing=True\n",
    ")"
   ]
  },
  {
   "cell_type": "code",
   "execution_count": 74,
   "metadata": {},
   "outputs": [
    {
     "data": {
      "text/plain": [
       "['loss', 'acc']"
      ]
     },
     "execution_count": 74,
     "metadata": {},
     "output_type": "execute_result"
    }
   ],
   "source": []
  },
  {
   "cell_type": "code",
   "execution_count": null,
   "metadata": {},
   "outputs": [],
   "source": []
  }
 ],
 "metadata": {
  "kernelspec": {
   "display_name": "Python [default]",
   "language": "python",
   "name": "python2"
  },
  "language_info": {
   "codemirror_mode": {
    "name": "ipython",
    "version": 2
   },
   "file_extension": ".py",
   "mimetype": "text/x-python",
   "name": "python",
   "nbconvert_exporter": "python",
   "pygments_lexer": "ipython2",
   "version": "2.7.14"
  }
 },
 "nbformat": 4,
 "nbformat_minor": 2
}
