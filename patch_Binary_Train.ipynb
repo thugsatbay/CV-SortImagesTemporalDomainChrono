{
 "cells": [
  {
   "cell_type": "code",
   "execution_count": null,
   "metadata": {
    "nbpresent": {
     "id": "813aa768-acc1-4295-a4c4-25472267cf86"
    }
   },
   "outputs": [],
   "source": [
    "import os\n",
    "import glob\n",
    "import h5py\n",
    "import numpy as np\n",
    "import matplotlib.pyplot as plt\n",
    "import scipy.io as sio \n",
    "import cv2\n",
    "import pickle\n",
    "import time\n",
    "import random\n",
    "import sys\n",
    "from PIL import Image\n",
    "from collections import namedtuple as nt"
   ]
  },
  {
   "cell_type": "code",
   "execution_count": null,
   "metadata": {},
   "outputs": [],
   "source": [
    "'''\n",
    "User params to run the network\n",
    "'''\n",
    "all_params = sys.argv[1:][:]\n",
    "if \"help\" in all_params:\n",
    "    print \"GPU_AVAILABLE -\", \"gpu\"\n",
    "    print \"MODEL_NAME -\", \"name\"\n",
    "    print \"BATCH_SIZE -\", \"batch\"\n",
    "    print \"EPOCHS -\", \"epoch\"\n",
    "    print \"INITIAL_EPOCH -\", \"start\"\n",
    "    print \"LR -\", \"lr\"\n",
    "    print \"LR_DECAY -\", \"decay\"\n",
    "    print \"LOSS - \", \"loss\"\n",
    "    sys.exit()\n",
    "params = {}\n",
    "if '-f' not in all_params:\n",
    "    params = dict([tuple(each_param.split('=')) for each_param in all_params])\n",
    "GPU_AVAILABLE = params.get(\"gpu\", \"1\")\n",
    "MODEL_NAME = params.get(\"name\", 'EXPERIMENT_' + str(time.time()))\n",
    "BATCH_SIZE = int(float(params.get(\"batch\", 128)))\n",
    "EPOCHS = int(float(params.get(\"epoch\", 80)))\n",
    "INITIAL_EPOCH = int(float(params.get(\"start\", 0)))\n",
    "LR = float(params.get(\"lr\", 0.01))\n",
    "LR_DECAY = float(params.get(\"decay\", 0.0000125))\n",
    "LOSS = params.get(\"loss\", 'mean_squared_error')"
   ]
  },
  {
   "cell_type": "code",
   "execution_count": null,
   "metadata": {
    "nbpresent": {
     "id": "23c976ec-fc18-4d77-8795-fc6740aa271c"
    }
   },
   "outputs": [],
   "source": [
    "os.environ['KERAS_BACKEND'] = 'tensorflow'\n",
    "os.environ[\"CUDA_VISIBLE_DEVICES\"] = GPU_AVAILABLE"
   ]
  },
  {
   "cell_type": "code",
   "execution_count": null,
   "metadata": {
    "nbpresent": {
     "id": "e29e1f3c-22ed-4d12-91bb-daefa0e3258b"
    }
   },
   "outputs": [],
   "source": [
    "from keras.models import Sequential\n",
    "from keras.optimizers import SGD\n",
    "from keras.utils import np_utils\n",
    "from keras.models import Model\n",
    "from keras.layers import Input\n",
    "from keras.utils import data_utils, plot_model\n",
    "from keras import backend as K\n",
    "from keras.callbacks import TensorBoard\n",
    "K.clear_session()"
   ]
  },
  {
   "cell_type": "code",
   "execution_count": null,
   "metadata": {
    "nbpresent": {
     "id": "dd150821-44e7-4b36-b4d8-83a73c15e078"
    }
   },
   "outputs": [],
   "source": [
    "import tensorflow as tf\n",
    "from keras.backend.tensorflow_backend import set_session\n",
    "config = tf.ConfigProto()\n",
    "config.gpu_options.allow_growth = True\n",
    "config.gpu_options.visible_device_list = \"0\"\n",
    "set_session(tf.Session(config=config))"
   ]
  },
  {
   "cell_type": "markdown",
   "metadata": {
    "nbpresent": {
     "id": "15488a20-688c-4e9e-93a0-79c536511b9f"
    }
   },
   "source": [
    "### Run the notebooks to get access to the following\n",
    "\n",
    "1. lstm_model - Function\n",
    "2. EpochCallback - Class\n",
    "3. ChronoDataSet - Class"
   ]
  },
  {
   "cell_type": "code",
   "execution_count": null,
   "metadata": {
    "nbpresent": {
     "id": "8145016f-9b6d-400e-a9ea-336cea7c4882"
    }
   },
   "outputs": [],
   "source": [
    "# %run compare_model_and_callback.ipynb\n",
    "# %run patch_DataLoad_Binary.ipynb\n",
    "from compare_model_and_callback import lstm_model, EpochCallback\n",
    "from patch_DataLoad_Binary import ChronoDataSet"
   ]
  },
  {
   "cell_type": "code",
   "execution_count": null,
   "metadata": {
    "nbpresent": {
     "id": "b8437a6c-4ae8-49b6-a729-2304969cfda0"
    }
   },
   "outputs": [],
   "source": [
    "TYNAMO_HOME_DIR = '/l/vision/v7/gdhody/chrono/'\n",
    "BLITZLE_HOME_DIR = '/nfs/blitzle/home/data/vision5/gdhody/chrono/'\n",
    "HOME_DIR = TYNAMO_HOME_DIR"
   ]
  },
  {
   "cell_type": "code",
   "execution_count": null,
   "metadata": {
    "nbpresent": {
     "id": "9898fcaa-8489-4e07-9e1d-8b4e78665d13"
    }
   },
   "outputs": [],
   "source": [
    "model_input, model_output = lstm_model(\n",
    "                                        input_shape=(4, 80, 80, 3),\n",
    "                                        resnet=False,\n",
    "                                        dense_feature_to_compare=0,\n",
    "                                        drop_feature=0,\n",
    "                                        compare_layer=True,\n",
    "                                        compare_layer_dense=512,\n",
    "                                        drop_compare_dense=0,\n",
    "                                        lstm_cells=[(0, True, 'sum')],\n",
    "                                        many_to_many=False,\n",
    "                                        dense_layer_after_lstm=0,\n",
    "                                        multi_output=False,\n",
    "                                        number_of_classes=1,\n",
    "                                     )\n",
    "model = Model(inputs=[model_input], outputs=[model_output])\n",
    "output_layer_name = model.layers[-1].name\n",
    "print model.summary()"
   ]
  },
  {
   "cell_type": "code",
   "execution_count": null,
   "metadata": {
    "nbpresent": {
     "id": "38415931-d973-4ad4-8679-7c098a8fdb32"
    }
   },
   "outputs": [],
   "source": [
    "HDF5_PATH = os.path.join(HOME_DIR, 'patch.hdf5')\n",
    "PICKLE_PATH = os.path.join(HOME_DIR, 'patch.pkl')\n",
    "MODEL_PLOT_FILE_PATH = os.path.join(HOME_DIR, 'models', MODEL_NAME)\n",
    "TENSORBOARD_PATH = os.path.join(MODEL_PLOT_FILE_PATH, \"tensorboard\")\n",
    "if not os.path.exists(MODEL_PLOT_FILE_PATH):\n",
    "    os.makedirs(MODEL_PLOT_FILE_PATH)\n",
    "if not os.path.exists(TENSORBOARD_PATH):\n",
    "    os.makedirs(TENSORBOARD_PATH)"
   ]
  },
  {
   "cell_type": "code",
   "execution_count": null,
   "metadata": {},
   "outputs": [],
   "source": [
    "train_generator = ChronoDataSet(\n",
    "                                    PICKLE_PATH,\n",
    "                                    HDF5_PATH,\n",
    "                                    batch_size=BATCH_SIZE,\n",
    "                                    start_epoch=INITIAL_EPOCH,\n",
    "                                    mode='TRAIN',\n",
    "                                    dataset='UCF'\n",
    "                               )\n",
    "print \"Train Data Generator Ready\"\n",
    "STEPS_PER_EPOCH = train_generator.getBatchRunsPerEpoch()"
   ]
  },
  {
   "cell_type": "code",
   "execution_count": null,
   "metadata": {},
   "outputs": [],
   "source": [
    "validation_generator = ChronoDataSet(\n",
    "                                        PICKLE_PATH,\n",
    "                                        HDF5_PATH,\n",
    "                                        batch_size=BATCH_SIZE,\n",
    "                                        start_epoch=INITIAL_EPOCH,\n",
    "                                        mode='VALIDATION',\n",
    "                                        dataset='UCF'\n",
    "                                    )\n",
    "print \"Validation Data Generator Ready\""
   ]
  },
  {
   "cell_type": "code",
   "execution_count": null,
   "metadata": {
    "nbpresent": {
     "id": "477f8f1b-4f26-40f0-ba40-acb85b9c846e"
    }
   },
   "outputs": [],
   "source": [
    "#LR = (1. / ( 1. + (float(INITIAL_EPOCH) * LR_DECAY * float(train_generator.getBatchRunsPerEpoch())))) * LR\n",
    "sgd = SGD(lr=LR, decay=LR_DECAY, momentum=0.9, nesterov=True)\n",
    "model.compile(\n",
    "                loss={output_layer_name : LOSS},\n",
    "                optimizer=sgd,\n",
    "                metrics=['accuracy']\n",
    "             )\n",
    "\n",
    "tensorboard_callback = TensorBoard(\n",
    "                                    log_dir=TENSORBOARD_PATH, \n",
    "                                    histogram_freq=0, \n",
    "                                    batch_size=BATCH_SIZE,  \n",
    "                                    write_graph=True, \n",
    "                                    write_images=True\n",
    "                                  )"
   ]
  },
  {
   "cell_type": "code",
   "execution_count": null,
   "metadata": {},
   "outputs": [],
   "source": [
    "plot_model(model, to_file=os.path.join(MODEL_PLOT_FILE_PATH, 'model_plot' + '.png'))\n",
    "model_json = model.to_json()\n",
    "with open(os.path.join(MODEL_PLOT_FILE_PATH, 'model' + '.json'), \"w\") as json_file:\n",
    "    json_file.write(model_json)\n",
    "print \"Model plotting done and saved in json file\""
   ]
  },
  {
   "cell_type": "code",
   "execution_count": null,
   "metadata": {},
   "outputs": [],
   "source": [
    "print \"-------------------------------------------------------------------\"\n",
    "print \"RUN PARAMS\"\n",
    "print \"MODEL_NAME =\", MODEL_NAME\n",
    "print \"GPU =\", GPU_AVAILABLE\n",
    "print \"BATCH_SIZE =\", BATCH_SIZE\n",
    "print \"STARTING LR\", (1. / ( 1. + (float(INITIAL_EPOCH) * LR_DECAY * float(STEPS_PER_EPOCH)))) * LR\n",
    "print \"LR_DECAY\", LR_DECAY\n",
    "print \"-------------------------------------------------------------------\""
   ]
  },
  {
   "cell_type": "markdown",
   "metadata": {},
   "source": [
    "if INITIAL_EPOCH:\n",
    "    LOAD_WEIGHT = os.path.join(MODEL_PLOT_FILE_PATH, 'weights', 'EPOCH_' + str(INITIAL_EPOCH) + '.h5')\n",
    "    model.load_weights(LOAD_WEIGHT, by_name=True)\n",
    "    print \"Weights from\", str(INITIAL_EPOCH), \"epoch Loaded\"\n",
    "START_ITERATION = INITIAL_EPOCH * STEPS_PER_EPOCH\n",
    "model.fit_generator(\n",
    "                        generator=train_generator,\n",
    "                        steps_per_epoch=STEPS_PER_EPOCH,\n",
    "                        epochs=EPOCHS,\n",
    "                        verbose=1, \n",
    "                        callbacks=[EpochCallback(MODEL_NAME, MODEL_PLOT_FILE_PATH, STEPS_PER_EPOCH, START_ITERATION), \n",
    "                                   tensorboard_callback], \n",
    "                        validation_data=validation_generator,\n",
    "                        validation_steps=validation_generator.getBatchRunsPerEpoch(),\n",
    "                        max_queue_size=9,\n",
    "                        workers=3,\n",
    "                        use_multiprocessing=True,\n",
    "                        initial_epoch=INITIAL_EPOCH\n",
    "                   )"
   ]
  },
  {
   "cell_type": "code",
   "execution_count": null,
   "metadata": {},
   "outputs": [],
   "source": [
    "# for layyer in model.layers:\n",
    "#     print layyer.name"
   ]
  },
  {
   "cell_type": "code",
   "execution_count": null,
   "metadata": {},
   "outputs": [],
   "source": []
  },
  {
   "cell_type": "code",
   "execution_count": null,
   "metadata": {},
   "outputs": [],
   "source": []
  }
 ],
 "metadata": {
  "kernelspec": {
   "display_name": "Python [default]",
   "language": "python",
   "name": "python2"
  },
  "language_info": {
   "codemirror_mode": {
    "name": "ipython",
    "version": 2
   },
   "file_extension": ".py",
   "mimetype": "text/x-python",
   "name": "python",
   "nbconvert_exporter": "python",
   "pygments_lexer": "ipython2",
   "version": "2.7.14"
  },
  "nbpresent": {
   "slides": {
    "33ea2571-7e8d-437e-87de-db8a8cfeae8e": {
     "id": "33ea2571-7e8d-437e-87de-db8a8cfeae8e",
     "prev": "4a20f309-56bf-4e76-9c62-36c41351c49d",
     "regions": {
      "a246be9a-bbd7-47cf-bd09-f433f8540a99": {
       "attrs": {
        "height": 0.8,
        "width": 0.8,
        "x": 0.1,
        "y": 0.1
       },
       "content": {
        "cell": "9898fcaa-8489-4e07-9e1d-8b4e78665d13",
        "part": "whole"
       },
       "id": "a246be9a-bbd7-47cf-bd09-f433f8540a99"
      }
     }
    },
    "41d89b97-6130-45aa-ad6f-d7571bf83277": {
     "id": "41d89b97-6130-45aa-ad6f-d7571bf83277",
     "prev": "5f238fc3-3d42-4722-93b9-4a7b4bedc84e",
     "regions": {
      "d1f3dcbd-d40d-4029-8a72-f253c9b7e251": {
       "attrs": {
        "height": 0.8,
        "width": 0.8,
        "x": 0.1,
        "y": 0.1
       },
       "content": {
        "cell": "abe8b869-3c3b-4610-afe3-8b47f0ff2d31",
        "part": "whole"
       },
       "id": "d1f3dcbd-d40d-4029-8a72-f253c9b7e251"
      }
     }
    },
    "45c19efa-abaf-4cf6-8862-e2dc3e3b9f7b": {
     "id": "45c19efa-abaf-4cf6-8862-e2dc3e3b9f7b",
     "prev": "cc7d90b6-1ba0-4594-9505-7bd6f969a239",
     "regions": {
      "a2e849b2-17fe-4d72-a979-456710d8100c": {
       "attrs": {
        "height": 0.8,
        "width": 0.8,
        "x": 0.1,
        "y": 0.1
       },
       "content": {
        "cell": "dd150821-44e7-4b36-b4d8-83a73c15e078",
        "part": "whole"
       },
       "id": "a2e849b2-17fe-4d72-a979-456710d8100c"
      }
     }
    },
    "47b690dc-1b96-4e64-8f8e-6011a5018280": {
     "id": "47b690dc-1b96-4e64-8f8e-6011a5018280",
     "prev": "71b2a451-3abe-42af-9479-c516b0df8157",
     "regions": {
      "444823df-3562-4199-865d-1d6a61cd351f": {
       "attrs": {
        "height": 0.8,
        "width": 0.8,
        "x": 0.1,
        "y": 0.1
       },
       "content": {
        "cell": "e55084a7-e45a-4315-a3a9-34937733a587",
        "part": "whole"
       },
       "id": "444823df-3562-4199-865d-1d6a61cd351f"
      }
     }
    },
    "4872341b-7cd9-4d6d-92d4-69021ad59eeb": {
     "id": "4872341b-7cd9-4d6d-92d4-69021ad59eeb",
     "prev": "41d89b97-6130-45aa-ad6f-d7571bf83277",
     "regions": {
      "341fc06f-f919-4b5c-9d4b-63b2c66bc571": {
       "attrs": {
        "height": 0.8,
        "width": 0.8,
        "x": 0.1,
        "y": 0.1
       },
       "content": {
        "cell": "6a2004e6-e796-412f-b47e-bcf74486e333",
        "part": "whole"
       },
       "id": "341fc06f-f919-4b5c-9d4b-63b2c66bc571"
      }
     }
    },
    "4a20f309-56bf-4e76-9c62-36c41351c49d": {
     "id": "4a20f309-56bf-4e76-9c62-36c41351c49d",
     "prev": "6145ba2a-8b53-4e14-a5f6-45195b7e4124",
     "regions": {
      "0e8bfaec-1263-4f09-ba42-85ab86d7c977": {
       "attrs": {
        "height": 0.8,
        "width": 0.8,
        "x": 0.1,
        "y": 0.1
       },
       "content": {
        "cell": "b8437a6c-4ae8-49b6-a729-2304969cfda0",
        "part": "whole"
       },
       "id": "0e8bfaec-1263-4f09-ba42-85ab86d7c977"
      }
     }
    },
    "5f238fc3-3d42-4722-93b9-4a7b4bedc84e": {
     "id": "5f238fc3-3d42-4722-93b9-4a7b4bedc84e",
     "prev": "d3bc23e9-8ef0-4d53-a21d-aaac3ddf4a06",
     "regions": {
      "2ce1841c-7806-4310-afcf-701cdbe16e98": {
       "attrs": {
        "height": 0.8,
        "width": 0.8,
        "x": 0.1,
        "y": 0.1
       },
       "content": {
        "cell": "3fc63e85-d94b-406c-b5b4-73a1fee79c6e",
        "part": "whole"
       },
       "id": "2ce1841c-7806-4310-afcf-701cdbe16e98"
      }
     }
    },
    "6145ba2a-8b53-4e14-a5f6-45195b7e4124": {
     "id": "6145ba2a-8b53-4e14-a5f6-45195b7e4124",
     "prev": "93b6f19b-a26a-43ce-84f5-1f71eefa9e76",
     "regions": {
      "c3c996c7-0515-40d6-b7bd-fe00bf25572c": {
       "attrs": {
        "height": 0.8,
        "width": 0.8,
        "x": 0.1,
        "y": 0.1
       },
       "content": {
        "cell": "8145016f-9b6d-400e-a9ea-336cea7c4882",
        "part": "whole"
       },
       "id": "c3c996c7-0515-40d6-b7bd-fe00bf25572c"
      }
     }
    },
    "71b2a451-3abe-42af-9479-c516b0df8157": {
     "id": "71b2a451-3abe-42af-9479-c516b0df8157",
     "prev": "e6e8abe8-3ef3-42a8-bfbe-a36bd30c3ea6",
     "regions": {
      "0c501a08-23bc-4901-bb71-922504048494": {
       "attrs": {
        "height": 0.8,
        "width": 0.8,
        "x": 0.1,
        "y": 0.1
       },
       "content": {
        "cell": "38415931-d973-4ad4-8679-7c098a8fdb32",
        "part": "whole"
       },
       "id": "0c501a08-23bc-4901-bb71-922504048494"
      }
     }
    },
    "7919737f-09c0-43e6-8664-d84bfa4e4b20": {
     "id": "7919737f-09c0-43e6-8664-d84bfa4e4b20",
     "prev": "4872341b-7cd9-4d6d-92d4-69021ad59eeb",
     "regions": {
      "a859c67a-8906-4d46-b179-87dab2fd1b66": {
       "attrs": {
        "height": 0.8,
        "width": 0.8,
        "x": 0.1,
        "y": 0.1
       },
       "content": {
        "cell": "4a765187-b950-45f1-afff-c2a447f0774b",
        "part": "whole"
       },
       "id": "a859c67a-8906-4d46-b179-87dab2fd1b66"
      }
     }
    },
    "93b6f19b-a26a-43ce-84f5-1f71eefa9e76": {
     "id": "93b6f19b-a26a-43ce-84f5-1f71eefa9e76",
     "prev": "45c19efa-abaf-4cf6-8862-e2dc3e3b9f7b",
     "regions": {
      "01420871-55fe-4b97-92f2-91ad8f78c119": {
       "attrs": {
        "height": 0.8,
        "width": 0.8,
        "x": 0.1,
        "y": 0.1
       },
       "content": {
        "cell": "15488a20-688c-4e9e-93a0-79c536511b9f",
        "part": "whole"
       },
       "id": "01420871-55fe-4b97-92f2-91ad8f78c119"
      }
     }
    },
    "cc7d90b6-1ba0-4594-9505-7bd6f969a239": {
     "id": "cc7d90b6-1ba0-4594-9505-7bd6f969a239",
     "prev": "e3a0c897-049f-4897-ba9c-409fa5199f11",
     "regions": {
      "94d8f500-9a73-49f8-a00f-4b4a79a27274": {
       "attrs": {
        "height": 0.8,
        "width": 0.8,
        "x": 0.1,
        "y": 0.1
       },
       "content": {
        "cell": "e29e1f3c-22ed-4d12-91bb-daefa0e3258b",
        "part": "whole"
       },
       "id": "94d8f500-9a73-49f8-a00f-4b4a79a27274"
      }
     }
    },
    "d3bc23e9-8ef0-4d53-a21d-aaac3ddf4a06": {
     "id": "d3bc23e9-8ef0-4d53-a21d-aaac3ddf4a06",
     "prev": "47b690dc-1b96-4e64-8f8e-6011a5018280",
     "regions": {
      "022347e8-b790-4c0f-8a74-e340665d9539": {
       "attrs": {
        "height": 0.8,
        "width": 0.8,
        "x": 0.1,
        "y": 0.1
       },
       "content": {
        "cell": "477f8f1b-4f26-40f0-ba40-acb85b9c846e",
        "part": "whole"
       },
       "id": "022347e8-b790-4c0f-8a74-e340665d9539"
      }
     }
    },
    "d57cd16d-4f1a-4d4e-b500-d6630a79f33e": {
     "id": "d57cd16d-4f1a-4d4e-b500-d6630a79f33e",
     "prev": null,
     "regions": {
      "d5a9f8d6-1454-4ef1-b28e-09346b3e3cdd": {
       "attrs": {
        "height": 0.8,
        "width": 0.8,
        "x": 0.1,
        "y": 0.1
       },
       "content": {
        "cell": "813aa768-acc1-4295-a4c4-25472267cf86",
        "part": "whole"
       },
       "id": "d5a9f8d6-1454-4ef1-b28e-09346b3e3cdd"
      }
     }
    },
    "e3a0c897-049f-4897-ba9c-409fa5199f11": {
     "id": "e3a0c897-049f-4897-ba9c-409fa5199f11",
     "prev": "d57cd16d-4f1a-4d4e-b500-d6630a79f33e",
     "regions": {
      "e4c5f956-84e0-4175-9355-fcde5e66858e": {
       "attrs": {
        "height": 0.8,
        "width": 0.8,
        "x": 0.1,
        "y": 0.1
       },
       "content": {
        "cell": "23c976ec-fc18-4d77-8795-fc6740aa271c",
        "part": "whole"
       },
       "id": "e4c5f956-84e0-4175-9355-fcde5e66858e"
      }
     }
    },
    "e6e8abe8-3ef3-42a8-bfbe-a36bd30c3ea6": {
     "id": "e6e8abe8-3ef3-42a8-bfbe-a36bd30c3ea6",
     "prev": "33ea2571-7e8d-437e-87de-db8a8cfeae8e",
     "regions": {
      "c91f9dd9-53a8-4629-90b0-7a216fa5bf08": {
       "attrs": {
        "height": 0.8,
        "width": 0.8,
        "x": 0.1,
        "y": 0.1
       },
       "content": {
        "cell": "546ed81b-908e-41b0-b727-d6a6b94c9c78",
        "part": "whole"
       },
       "id": "c91f9dd9-53a8-4629-90b0-7a216fa5bf08"
      }
     }
    }
   },
   "themes": {}
  }
 },
 "nbformat": 4,
 "nbformat_minor": 2
}
